{
 "cells": [
  {
   "cell_type": "markdown",
   "metadata": {},
   "source": [
    "## Quick Start\n",
    "\n",
    "To get started with KOA Middleware, follow these basic steps:\n",
    "\n",
    "1.  **Installation:** Ensure the package is installed as described in the `Installation` section.\n",
    "\n",
    "2.  **Initialize the Calibration Store:** The `CalibrationStore` is the central component for managing calibration data. You'll need to provide an ORM class that defines your calibration data structure."
   ]
  },
  {
   "cell_type": "code",
   "execution_count": null,
   "metadata": {},
   "outputs": [],
   "source": [
    "import os\n",
    "from koa_middleware.store import CalibrationStore\n",
    "from sqlalchemy import Column, Integer, String\n",
    "from sqlalchemy.orm import DeclarativeBase, Mapped, mapped_column\n",
    "\n",
    "# Define a simple ORM class for demonstration\n",
    "class Base(DeclarativeBase):\n",
    "    pass\n",
    "\n",
    "class MyCalibrationORM(Base):\n",
    "    __tablename__ = 'my_calibrations'\n",
    "    id = Column(Integer, primary_key=True)\n",
    "    name = Column(String)\n",
    "    filename = Column(String) # Required for CalibrationStore\n",
    "\n",
    "# Set up a temporary cache directory for demonstration\n",
    "cache_dir = '/tmp/koa_middleware_cache'\n",
    "os.makedirs(cache_dir, exist_ok=True)\n",
    "os.environ['KOA_CALIBRATION_CACHE'] = cache_dir\n",
    "\n",
    "# Initialize the store\n",
    "store = CalibrationStore(orm_class=MyCalibrationORM)\n",
    "\n",
    "print(f\"CalibrationStore initialized with cache: {store.cache_dir}\")"
   ]
  },
  {
   "cell_type": "markdown",
   "metadata": {},
   "source": [
    "3.  **Retrieve Calibrations:** You can retrieve calibrations using selectors or by ID."
   ]
  },
  {
   "cell_type": "code",
   "execution_count": null,
   "metadata": {},
   "outputs": [],
   "source": [
    "# Example: Register a dummy calibration (in a real scenario, this would come from a DRP)\n",
    "class DummyCalibration:\n",
    "    def save(self, output_dir):\n",
    "        filepath = os.path.join(output_dir, \"dummy_cal.fits\")\n",
    "        with open(filepath, \"w\") as f:\n",
    "            f.write(\"dummy calibration data\")\n",
    "        return filepath\n",
    "    def to_orm(self):\n",
    "        return MyCalibrationORM(id=1, name=\"dummy_cal\", filename=\"dummy_cal.fits\")\n",
    "\n",
    "dummy_cal = DummyCalibration()\n",
    "orm_instance = dummy_cal.to_orm()\n",
    "local_filepath = store.register_local_calibration(orm_instance)\n",
    "print(f\"Registered calibration: {orm_instance.name} at {local_filepath}\")\n",
    "\n",
    "# Example: Retrieve by ID\n",
    "retrieved_filepath, retrieved_orm = store.get_calibration_by_id(1)\n",
    "if retrieved_orm:\n",
    "    print(f\"Retrieved calibration by ID: {retrieved_orm.name} at {retrieved_filepath}\")\n",
    "\n",
    "# Clean up (optional)\n",
    "store.close()\n",
    "# os.remove(os.path.join(cache_dir, 'database', 'my_calibrations_calibrations.db'))\n",
    "# os.remove(os.path.join(cache_dir, 'calibrations', 'dummy_cal.fits'))\n",
    "# os.rmdir(os.path.join(cache_dir, 'database'))\n",
    "# os.rmdir(os.join(cache_dir, 'calibrations'))\n",
    "# os.rmdir(cache_dir)"
   ]
  }
 ],
 "metadata": {
  "kernelspec": {
   "display_name": "Python 3",
   "language": "python",
   "name": "python3"
  },
  "language_info": {
   "codemirror_mode": {
    "name": "ipython",
    "version": 3
   },
   "file_extension": ".py",
   "mimetype": "text/x-python",
   "name": "python",
   "nbconvert_exporter": "python",
   "pygments_lexer": "python",
   "version": "3.12.4"
  }
 },
 "nbformat": 4,
 "nbformat_minor": 4
}
